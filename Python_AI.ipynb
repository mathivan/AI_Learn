{
 "cells": [
  {
   "cell_type": "code",
   "execution_count": 1,
   "metadata": {},
   "outputs": [
    {
     "name": "stdout",
     "output_type": "stream",
     "text": [
      "<class 'str'>\n",
      "<class 'int'>\n",
      "<class 'float'>\n"
     ]
    }
   ],
   "source": [
    "# This Python 3 environment comes with many helpful analytics libraries installed\n",
    "# It is defined by the kaggle/python docker image: https://github.com/kaggle/docker-python\n",
    "#Let's start with data types\n",
    "# Textual data is stored in string data type\n",
    "textual_data = 'Hello World'\n",
    "#Let's print the type of textual_data\n",
    "print(type(textual_data))\n",
    "#Numbers are stored in integer data type\n",
    "number_data = 5\n",
    "print(type(number_data))\n",
    "#Numbers with decimal point are stored in float type\n",
    "float_data = 3.3\n",
    "print(type(float_data))"
   ]
  },
  {
   "cell_type": "code",
   "execution_count": 28,
   "metadata": {},
   "outputs": [
    {
     "name": "stdout",
     "output_type": "stream",
     "text": [
      "type(list_type): <class 'list'>\n",
      "type(list_type): <class 'tuple'>\n",
      "index 0: 1\n",
      "index 0:1: ['text', 2]\n",
      "index :2 [1, 'text']\n",
      "index 2: [2, 'another text']\n"
     ]
    }
   ],
   "source": [
    "#Hmm, can we have an array of these data types\n",
    "# yes, You can store a list of these data types in list\n",
    "list = [1, 'text', 2, 'another text']\n",
    "print('type(list_type):',type(list))\n",
    "# We have tuples too and yes they are immutable, lists are mutable\n",
    "tuple = (1, 'text', 2, 'another text')\n",
    "print('type(list_type):',type(tuple))\n",
    "\n",
    "print('index 0:',list[0])\n",
    "print('index 0:1:',list[-3:-1])\n",
    "print('index :2',list[:2])\n",
    "print('index 2:',list[2:])"
   ]
  },
  {
   "cell_type": "code",
   "execution_count": 32,
   "metadata": {},
   "outputs": [
    {
     "data": {
      "text/html": [
       "<div>\n",
       "<style scoped>\n",
       "    .dataframe tbody tr th:only-of-type {\n",
       "        vertical-align: middle;\n",
       "    }\n",
       "\n",
       "    .dataframe tbody tr th {\n",
       "        vertical-align: top;\n",
       "    }\n",
       "\n",
       "    .dataframe thead th {\n",
       "        text-align: right;\n",
       "    }\n",
       "</style>\n",
       "<table border=\"1\" class=\"dataframe\">\n",
       "  <thead>\n",
       "    <tr style=\"text-align: right;\">\n",
       "      <th></th>\n",
       "      <th>Name</th>\n",
       "      <th>Item</th>\n",
       "      <th>Price</th>\n",
       "    </tr>\n",
       "  </thead>\n",
       "  <tbody>\n",
       "    <tr>\n",
       "      <th>Store 1</th>\n",
       "      <td>Ali</td>\n",
       "      <td>Item1</td>\n",
       "      <td>11.5</td>\n",
       "    </tr>\n",
       "    <tr>\n",
       "      <th>Store 2</th>\n",
       "      <td>Hassan</td>\n",
       "      <td>Item2</td>\n",
       "      <td>12.5</td>\n",
       "    </tr>\n",
       "    <tr>\n",
       "      <th>Store 3</th>\n",
       "      <td>Kamran</td>\n",
       "      <td>Item3</td>\n",
       "      <td>15.0</td>\n",
       "    </tr>\n",
       "  </tbody>\n",
       "</table>\n",
       "</div>"
      ],
      "text/plain": [
       "           Name   Item  Price\n",
       "Store 1     Ali  Item1   11.5\n",
       "Store 2  Hassan  Item2   12.5\n",
       "Store 3  Kamran  Item3   15.0"
      ]
     },
     "execution_count": 32,
     "metadata": {},
     "output_type": "execute_result"
    }
   ],
   "source": [
    "# We have a very powerful and interesting data structure in python\n",
    "# It's called a dataframe\n",
    "# Let's explore it now\n",
    "import pandas as pd\n",
    "purchase_1 = pd.Series({'Name': 'Ali',\n",
    "                        'Item': 'Item1',\n",
    "                        'Price': 11.50})\n",
    "purchase_2 = pd.Series({'Name': 'Hassan',\n",
    "                        'Item': 'Item2',\n",
    "                        'Price': 12.50})\n",
    "purchase_3 = pd.Series({'Name': 'Kamran',\n",
    "                        'Item': 'Item3',\n",
    "                        'Price': 15.00})\n",
    "df = pd.DataFrame([purchase_1, purchase_2, purchase_3], index=['Store 1', 'Store 2', 'Store 3'])\n",
    "df.head()"
   ]
  },
  {
   "cell_type": "code",
   "execution_count": 55,
   "metadata": {},
   "outputs": [
    {
     "name": "stdout",
     "output_type": "stream",
     "text": [
      "Item1 11.5\n"
     ]
    },
    {
     "data": {
      "text/html": [
       "<div>\n",
       "<style scoped>\n",
       "    .dataframe tbody tr th:only-of-type {\n",
       "        vertical-align: middle;\n",
       "    }\n",
       "\n",
       "    .dataframe tbody tr th {\n",
       "        vertical-align: top;\n",
       "    }\n",
       "\n",
       "    .dataframe thead th {\n",
       "        text-align: right;\n",
       "    }\n",
       "</style>\n",
       "<table border=\"1\" class=\"dataframe\">\n",
       "  <thead>\n",
       "    <tr style=\"text-align: right;\">\n",
       "      <th></th>\n",
       "      <th>Name</th>\n",
       "      <th>Item</th>\n",
       "      <th>Price</th>\n",
       "    </tr>\n",
       "  </thead>\n",
       "  <tbody>\n",
       "    <tr>\n",
       "      <th>ind0</th>\n",
       "      <td>Hassan</td>\n",
       "      <td>Item2</td>\n",
       "      <td>12.5</td>\n",
       "    </tr>\n",
       "    <tr>\n",
       "      <th>ind1</th>\n",
       "      <td>Kamran</td>\n",
       "      <td>Item3</td>\n",
       "      <td>15.0</td>\n",
       "    </tr>\n",
       "    <tr>\n",
       "      <th>ind2</th>\n",
       "      <td>Ali</td>\n",
       "      <td>Item1</td>\n",
       "      <td>11.5</td>\n",
       "    </tr>\n",
       "  </tbody>\n",
       "</table>\n",
       "</div>"
      ],
      "text/plain": [
       "        Name   Item  Price\n",
       "ind0  Hassan  Item2   12.5\n",
       "ind1  Kamran  Item3   15.0\n",
       "ind2     Ali  Item1   11.5"
      ]
     },
     "execution_count": 55,
     "metadata": {},
     "output_type": "execute_result"
    }
   ],
   "source": [
    "#print(df.loc['Store 1'])\n",
    "#print(purchase_1[0])\n",
    "#print(df.loc[0,1])\n",
    "print(purchase_1['Item'],purchase_1['Price'])\n",
    "df = pd.DataFrame([purchase_2, purchase_3, purchase_1], index=['ind0', 'ind1', 'ind2'])\n",
    "df.head()"
   ]
  },
  {
   "cell_type": "code",
   "execution_count": 59,
   "metadata": {
    "scrolled": true
   },
   "outputs": [
    {
     "name": "stdout",
     "output_type": "stream",
     "text": [
      "Name     Kamran\n",
      "Item      Item3\n",
      "Price        15\n",
      "Name: ind1, dtype: object\n",
      "ind0    True\n",
      "ind1    True\n",
      "ind2    True\n",
      "Name: Price, dtype: bool\n"
     ]
    }
   ],
   "source": [
    "# How to get a particular row\n",
    "print(df.loc['ind1'])\n",
    "\n"
   ]
  },
  {
   "cell_type": "code",
   "execution_count": 60,
   "metadata": {},
   "outputs": [
    {
     "name": "stdout",
     "output_type": "stream",
     "text": [
      "ind0    True\n",
      "ind1    True\n",
      "ind2    True\n",
      "Name: Price, dtype: bool\n"
     ]
    }
   ],
   "source": [
    "print(df['Price'] > 10)"
   ]
  },
  {
   "cell_type": "code",
   "execution_count": 65,
   "metadata": {},
   "outputs": [
    {
     "name": "stdout",
     "output_type": "stream",
     "text": [
      "        Name   Item  Price\n",
      "ind1  Kamran  Item3   15.0\n"
     ]
    }
   ],
   "source": [
    "print(df.where(df['Price']>12.5).dropna())"
   ]
  },
  {
   "cell_type": "code",
   "execution_count": 73,
   "metadata": {},
   "outputs": [
    {
     "name": "stdout",
     "output_type": "stream",
     "text": [
      "        Name   Item  Price\n",
      "ind0  Hassan  Item2   12.5\n"
     ]
    }
   ],
   "source": [
    "print(df.where(df['Name'] == 'Hassan').dropna())"
   ]
  },
  {
   "cell_type": "code",
   "execution_count": 75,
   "metadata": {},
   "outputs": [
    {
     "name": "stdout",
     "output_type": "stream",
     "text": [
      "        Name   Item  Price\n",
      "ind0  Hassan  Item2   12.5\n"
     ]
    }
   ],
   "source": [
    "print(df.where(df['Price']==12.5).dropna())"
   ]
  },
  {
   "cell_type": "code",
   "execution_count": 64,
   "metadata": {},
   "outputs": [
    {
     "data": {
      "text/html": [
       "<div>\n",
       "<style scoped>\n",
       "    .dataframe tbody tr th:only-of-type {\n",
       "        vertical-align: middle;\n",
       "    }\n",
       "\n",
       "    .dataframe tbody tr th {\n",
       "        vertical-align: top;\n",
       "    }\n",
       "\n",
       "    .dataframe thead th {\n",
       "        text-align: right;\n",
       "    }\n",
       "</style>\n",
       "<table border=\"1\" class=\"dataframe\">\n",
       "  <thead>\n",
       "    <tr style=\"text-align: right;\">\n",
       "      <th></th>\n",
       "      <th>Name</th>\n",
       "      <th>Item</th>\n",
       "      <th>Price</th>\n",
       "    </tr>\n",
       "  </thead>\n",
       "  <tbody>\n",
       "    <tr>\n",
       "      <th>ind0</th>\n",
       "      <td>Hassan</td>\n",
       "      <td>Item2</td>\n",
       "      <td>12.5</td>\n",
       "    </tr>\n",
       "    <tr>\n",
       "      <th>ind1</th>\n",
       "      <td>Kamran</td>\n",
       "      <td>Item3</td>\n",
       "      <td>15.0</td>\n",
       "    </tr>\n",
       "    <tr>\n",
       "      <th>ind2</th>\n",
       "      <td>Ali</td>\n",
       "      <td>Item1</td>\n",
       "      <td>11.5</td>\n",
       "    </tr>\n",
       "  </tbody>\n",
       "</table>\n",
       "</div>"
      ],
      "text/plain": [
       "        Name   Item  Price\n",
       "ind0  Hassan  Item2   12.5\n",
       "ind1  Kamran  Item3   15.0\n",
       "ind2     Ali  Item1   11.5"
      ]
     },
     "execution_count": 64,
     "metadata": {},
     "output_type": "execute_result"
    }
   ],
   "source": [
    "df.head()"
   ]
  }
 ],
 "metadata": {
  "kernelspec": {
   "display_name": "Python 3",
   "language": "python",
   "name": "python3"
  },
  "language_info": {
   "codemirror_mode": {
    "name": "ipython",
    "version": 3
   },
   "file_extension": ".py",
   "mimetype": "text/x-python",
   "name": "python",
   "nbconvert_exporter": "python",
   "pygments_lexer": "ipython3",
   "version": "3.7.0"
  }
 },
 "nbformat": 4,
 "nbformat_minor": 2
}
